{
 "cells": [
  {
   "cell_type": "markdown",
   "id": "12cb4d42-4df2-4339-886d-8b7184bde721",
   "metadata": {},
   "source": [
    "# QUESTION 1\n",
    "Consider the following Python module"
   ]
  },
  {
   "cell_type": "code",
   "execution_count": 6,
   "id": "e1742dba-0abd-4e92-9b88-62f544afb00e",
   "metadata": {},
   "outputs": [
    {
     "data": {
      "text/plain": [
       "6"
      ]
     },
     "execution_count": 6,
     "metadata": {},
     "output_type": "execute_result"
    }
   ],
   "source": [
    "a = 0\n",
    "\n",
    "def b():\n",
    "    global a\n",
    "    a = c(a)\n",
    "\n",
    "def c(a):\n",
    "    return a + 2\n",
    "\n",
    "# Execute b() three times\n",
    "b()\n",
    "b()\n",
    "b()\n",
    "\n",
    "a\n"
   ]
  },
  {
   "cell_type": "markdown",
   "id": "c5c90a85-610a-439b-a0a6-97651fbe8ed0",
   "metadata": {},
   "source": [
    "# QUESTION 2\n",
    "Function fileLength"
   ]
  },
  {
   "cell_type": "code",
   "execution_count": 13,
   "id": "f42db04c-f6b0-4487-9b8d-875d9d3834bd",
   "metadata": {},
   "outputs": [
    {
     "name": "stdout",
     "output_type": "stream",
     "text": [
      "File midterm.py not found.\n",
      "None\n",
      "File idterm.py not found.\n",
      "None\n"
     ]
    }
   ],
   "source": [
    "def fileLength(filename):\n",
    "    try:\n",
    "        with open(filename, 'r') as infile:\n",
    "            return len(infile.read())\n",
    "    except FileNotFoundError:\n",
    "        print(f\"File {filename} not found.\")\n",
    "\n",
    "print(fileLength('midterm.py'))  # Replace with an actual filename that exists\n",
    "print(fileLength('idterm.py'))    # Replace with a filename that does not exist\n"
   ]
  },
  {
   "cell_type": "markdown",
   "id": "9b135f10-e06f-40da-8a7c-cdbf45ffec33",
   "metadata": {},
   "source": [
    "# QUESTION 3 \n",
    "Write a class named Marsupial that can be used"
   ]
  },
  {
   "cell_type": "code",
   "execution_count": 16,
   "id": "c8618739-43e4-4b3a-ae8e-039017094b49",
   "metadata": {},
   "outputs": [
    {
     "name": "stdout",
     "output_type": "stream",
     "text": [
      "['doll', 'firetruck', 'kitten']\n",
      "I am a Kangaroo located at coordinates (0,0)\n",
      "['doll', 'firetruck', 'kitten']\n",
      "I am a Kangaroo located at coordinates (3,0)\n"
     ]
    }
   ],
   "source": [
    "class Marsupial:\n",
    "    def __init__(self):\n",
    "        self.pouch = []\n",
    "\n",
    "    def put_in_pouch(self, item):\n",
    "        self.pouch.append(item)\n",
    "\n",
    "    def pouch_contents(self):\n",
    "        return self.pouch\n",
    "\n",
    "\n",
    "class Kangaroo(Marsupial):\n",
    "    def __init__(self, x, y):\n",
    "        super().__init__()  \n",
    "        self.x = x  \n",
    "        self.y = y  \n",
    "\n",
    "    def jump(self, dx, dy):\n",
    "        self.x += dx  \n",
    "        self.y += dy  \n",
    "\n",
    "    def __str__(self):\n",
    "        return f\"I am a Kangaroo located at coordinates ({self.x},{self.y})\"\n",
    "\n",
    "\n",
    "\n",
    "if __name__ == \"__main__\":\n",
    "    m = Marsupial()\n",
    "    m.put_in_pouch('doll')\n",
    "    m.put_in_pouch('firetruck')\n",
    "    m.put_in_pouch('kitten')\n",
    "    print(m.pouch_contents())  \n",
    "\n",
    "    k = Kangaroo(0, 0)\n",
    "    print(k) \n",
    "    k.put_in_pouch('doll')\n",
    "    k.put_in_pouch('firetruck')\n",
    "    k.put_in_pouch('kitten')\n",
    "    print(k.pouch_contents())  \n",
    "    k.jump(1, 0)\n",
    "    k.jump(1, 0)\n",
    "    k.jump(1, 0)\n",
    "    print(k)  \n"
   ]
  },
  {
   "cell_type": "markdown",
   "id": "c76c0722-be99-4cbb-afe7-b82a328180e2",
   "metadata": {},
   "source": [
    "# QUESTION 4\n",
    "Write function collatz() that takes a positive integer x as input and prints the Collatz sequence starting at x"
   ]
  },
  {
   "cell_type": "code",
   "execution_count": 19,
   "id": "8377a8fd-cfd9-40d3-b292-cceeb7d5aea6",
   "metadata": {},
   "outputs": [
    {
     "name": "stdout",
     "output_type": "stream",
     "text": [
      "1\n",
      "\n",
      "10\n",
      "5\n",
      "16\n",
      "8\n",
      "4\n",
      "2\n",
      "1\n"
     ]
    }
   ],
   "source": [
    "def collatz(x):\n",
    "    \n",
    "    print(x)\n",
    "    \n",
    "    if x == 1:\n",
    "        return\n",
    "    elif x % 2 == 0:  \n",
    "        collatz(x // 2)\n",
    "    else: \n",
    "        collatz(3 * x + 1)\n",
    "if __name__ == \"__main__\":\n",
    "    collatz(1)   \n",
    "    print()      \n",
    "    collatz(10)  \n"
   ]
  },
  {
   "cell_type": "markdown",
   "id": "5c2be9a5-172b-43b8-b529-459fe478333d",
   "metadata": {},
   "source": [
    "# QUESTION 5\n",
    "Write a recursive method binary() that takes a non-negative integer n and prints the binary representation of integer n."
   ]
  },
  {
   "cell_type": "code",
   "execution_count": 22,
   "id": "e89ac5b8-f169-46d5-9107-fda10b621b11",
   "metadata": {},
   "outputs": [
    {
     "name": "stdout",
     "output_type": "stream",
     "text": [
      "Binary representation of 0:\n",
      "0\n",
      "Binary representation of 1:\n",
      "1\n",
      "Binary representation of 3:\n",
      "11\n",
      "Binary representation of 9:\n",
      "1001"
     ]
    }
   ],
   "source": [
    "def binary(n):\n",
    "    if n == 0:\n",
    "        print(0, end='')\n",
    "        return\n",
    "    elif n == 1:\n",
    "        print(1, end='')\n",
    "        return\n",
    "    else:\n",
    "        binary(n // 2)  \n",
    "        print(n % 2, end='')  \n",
    "\n",
    "if __name__ == \"__main__\":\n",
    "    print(\"Binary representation of 0:\")\n",
    "    binary(0) \n",
    "    print(\"\\nBinary representation of 1:\")\n",
    "    binary(1)  \n",
    "    print(\"\\nBinary representation of 3:\")\n",
    "    binary(3)  \n",
    "    print(\"\\nBinary representation of 9:\")\n",
    "    binary(9)  \n"
   ]
  },
  {
   "cell_type": "markdown",
   "id": "4c3303cd-167d-46d3-a60d-0fe5dc26a6aa",
   "metadata": {},
   "source": [
    "# QUESTION 6\n",
    "Implement a class named HeadingParser that can be used to parse an HTML document, and retrieve and print all the headings in the document\n"
   ]
  },
  {
   "cell_type": "code",
   "execution_count": 11,
   "id": "4975f3f0-d9a3-4c41-b252-5546bcd3fc24",
   "metadata": {},
   "outputs": [
    {
     "name": "stdout",
     "output_type": "stream",
     "text": [
      "W3C Mission\n",
      " Principles\n",
      "  Open Standards\n",
      "  Privacy and Security\n"
     ]
    }
   ],
   "source": [
    "from html.parser import HTMLParser\n",
    "\n",
    "class HeadingParser(HTMLParser):\n",
    "    def __init__(self):\n",
    "        super().__init__()\n",
    "        self.current_heading = None  \n",
    "\n",
    "    def handle_starttag(self, tag, attrs):\n",
    "        if tag in ['h1', 'h2', 'h3', 'h4', 'h5', 'h6']:\n",
    "            self.current_heading = int(tag[1])  \n",
    "\n",
    "    def handle_endtag(self, tag):\n",
    "        if tag in ['h1', 'h2', 'h3', 'h4', 'h5', 'h6']:\n",
    "            self.current_heading = None\n",
    "\n",
    "    def handle_data(self, data):\n",
    "        if self.current_heading is not None:\n",
    "            print(' ' * (self.current_heading - 1) + data.strip())\n",
    "\n",
    "content = \"\"\"\n",
    "<h1>W3C Mission</h1>\n",
    "<p>The mission of the W3C is to lead the Web to its full potential.</p>\n",
    "<h2>Principles</h2>\n",
    "<h3>Open Standards</h3>\n",
    "<h3>Privacy and Security</h3>\n",
    "\"\"\"\n",
    "\n",
    "\n",
    "hp = HeadingParser()\n",
    "hp.feed(content)\n"
   ]
  },
  {
   "cell_type": "markdown",
   "id": "e3211dbb-4fe4-4680-8c4e-b1b41ba45e30",
   "metadata": {},
   "source": [
    "# QUESTION 7\n",
    "Implement recursive function"
   ]
  },
  {
   "cell_type": "code",
   "execution_count": 27,
   "id": "55f99c99-0f48-43a6-b9d3-73e8a7e71ab7",
   "metadata": {},
   "outputs": [
    {
     "name": "stdout",
     "output_type": "stream",
     "text": [
      "http://reed.cs.depaul.edu/lperkovic/csc242/test1.html\n"
     ]
    },
    {
     "ename": "HTTPError",
     "evalue": "404 Client Error:  for url: http://reed.cs.depaul.edu/lperkovic/csc242/test1.html",
     "output_type": "error",
     "traceback": [
      "\u001b[1;31m---------------------------------------------------------------------------\u001b[0m",
      "\u001b[1;31mHTTPError\u001b[0m                                 Traceback (most recent call last)",
      "Cell \u001b[1;32mIn[27], line 32\u001b[0m\n\u001b[0;32m     29\u001b[0m         webdir(href, depth \u001b[38;5;241m-\u001b[39m \u001b[38;5;241m1\u001b[39m, indent \u001b[38;5;241m+\u001b[39m \u001b[38;5;241m1\u001b[39m)\n\u001b[0;32m     31\u001b[0m \u001b[38;5;66;03m# Example usage:\u001b[39;00m\n\u001b[1;32m---> 32\u001b[0m webdir(\u001b[38;5;124m'\u001b[39m\u001b[38;5;124mhttp://reed.cs.depaul.edu/lperkovic/csc242/test1.html\u001b[39m\u001b[38;5;124m'\u001b[39m, \u001b[38;5;241m2\u001b[39m, \u001b[38;5;241m0\u001b[39m)\n",
      "Cell \u001b[1;32mIn[27], line 14\u001b[0m, in \u001b[0;36mwebdir\u001b[1;34m(url, depth, indent)\u001b[0m\n\u001b[0;32m     11\u001b[0m \u001b[38;5;28;01mtry\u001b[39;00m:\n\u001b[0;32m     12\u001b[0m     \u001b[38;5;66;03m# Send a GET request to the URL and get the page content\u001b[39;00m\n\u001b[0;32m     13\u001b[0m     response \u001b[38;5;241m=\u001b[39m requests\u001b[38;5;241m.\u001b[39mget(url)\n\u001b[1;32m---> 14\u001b[0m     response\u001b[38;5;241m.\u001b[39mraise_for_status()  \u001b[38;5;66;03m# Check if the request was successful\u001b[39;00m\n\u001b[0;32m     15\u001b[0m \u001b[38;5;28;01mexcept\u001b[39;00m (requests\u001b[38;5;241m.\u001b[39mexceptions\u001b[38;5;241m.\u001b[39mMissingSchema, requests\u001b[38;5;241m.\u001b[39mexceptions\u001b[38;5;241m.\u001b[39mConnectionError):\n\u001b[0;32m     16\u001b[0m     \u001b[38;5;28;01mreturn\u001b[39;00m  \u001b[38;5;66;03m# Skip if the URL is not accessible or invalid\u001b[39;00m\n",
      "File \u001b[1;32m~\\anaconda3\\Lib\\site-packages\\requests\\models.py:1024\u001b[0m, in \u001b[0;36mResponse.raise_for_status\u001b[1;34m(self)\u001b[0m\n\u001b[0;32m   1019\u001b[0m     http_error_msg \u001b[38;5;241m=\u001b[39m (\n\u001b[0;32m   1020\u001b[0m         \u001b[38;5;124mf\u001b[39m\u001b[38;5;124m\"\u001b[39m\u001b[38;5;132;01m{\u001b[39;00m\u001b[38;5;28mself\u001b[39m\u001b[38;5;241m.\u001b[39mstatus_code\u001b[38;5;132;01m}\u001b[39;00m\u001b[38;5;124m Server Error: \u001b[39m\u001b[38;5;132;01m{\u001b[39;00mreason\u001b[38;5;132;01m}\u001b[39;00m\u001b[38;5;124m for url: \u001b[39m\u001b[38;5;132;01m{\u001b[39;00m\u001b[38;5;28mself\u001b[39m\u001b[38;5;241m.\u001b[39murl\u001b[38;5;132;01m}\u001b[39;00m\u001b[38;5;124m\"\u001b[39m\n\u001b[0;32m   1021\u001b[0m     )\n\u001b[0;32m   1023\u001b[0m \u001b[38;5;28;01mif\u001b[39;00m http_error_msg:\n\u001b[1;32m-> 1024\u001b[0m     \u001b[38;5;28;01mraise\u001b[39;00m HTTPError(http_error_msg, response\u001b[38;5;241m=\u001b[39m\u001b[38;5;28mself\u001b[39m)\n",
      "\u001b[1;31mHTTPError\u001b[0m: 404 Client Error:  for url: http://reed.cs.depaul.edu/lperkovic/csc242/test1.html"
     ]
    }
   ],
   "source": [
    "import requests\n",
    "from bs4 import BeautifulSoup\n",
    "\n",
    "def webdir(url, depth, indent):\n",
    "    if depth < 0:\n",
    "        return\n",
    "\n",
    "    # Print the current URL with the appropriate indentation\n",
    "    print(' ' * indent + url)\n",
    "    \n",
    "    try:\n",
    "        # Send a GET request to the URL and get the page content\n",
    "        response = requests.get(url)\n",
    "        response.raise_for_status()  # Check if the request was successful\n",
    "    except (requests.exceptions.MissingSchema, requests.exceptions.ConnectionError):\n",
    "        return  # Skip if the URL is not accessible or invalid\n",
    "\n",
    "    # Parse the page content with BeautifulSoup\n",
    "    soup = BeautifulSoup(response.text, 'html.parser')\n",
    "\n",
    "    # Loop through all the anchor tags to get the href attribute\n",
    "    for link in soup.find_all('a', href=True):\n",
    "        href = link.get('href')\n",
    "        # Check if the href is a valid and absolute URL\n",
    "        if not href.startswith('http'):\n",
    "            continue\n",
    "\n",
    "        # Call the webdir function recursively with reduced depth and increased indentation\n",
    "        webdir(href, depth - 1, indent + 1)\n",
    "\n",
    "# Example usage:\n",
    "webdir('http://reed.cs.depaul.edu/lperkovic/csc242/test1.html', 2, 0)\n"
   ]
  },
  {
   "cell_type": "markdown",
   "id": "b2923ccd-91c2-4ed6-8011-0011153c467f",
   "metadata": {},
   "source": [
    "# QUESTION 8 \n",
    "Write SQL queries on the below database table"
   ]
  },
  {
   "cell_type": "code",
   "execution_count": 35,
   "id": "9f198119-f687-46d0-903f-e7bd22d96df7",
   "metadata": {},
   "outputs": [
    {
     "name": "stdout",
     "output_type": "stream",
     "text": [
      "a) All the temperature data:\n",
      "24.8\n",
      "28.4\n",
      "27.9\n",
      "27.6\n",
      "13.6\n",
      "20.7\n",
      "27.7\n",
      "22.2\n",
      "4.2\n",
      "8.3\n",
      "15.7\n",
      "10.4\n",
      "\n",
      "b) All the cities, but without repetition:\n",
      "Mumbai\n",
      "Cairo\n",
      "London\n",
      "\n",
      "c) All the records for India:\n",
      "('Mumbai', 'India', 'Winter', 24.8, 5.9)\n",
      "('Mumbai', 'India', 'Spring', 28.4, 16.2)\n",
      "('Mumbai', 'India', 'Summer', 27.9, 1549.4)\n",
      "('Mumbai', 'India', 'Fall', 27.6, 346.0)\n",
      "\n",
      "d) All the Fall records:\n",
      "('Mumbai', 'India', 'Fall', 27.6, 346.0)\n",
      "('Cairo', 'Egypt', 'Fall', 22.2, 4.5)\n",
      "('London', 'UK', 'Fall', 10.4, 218.5)\n",
      "\n",
      "e) The city, country, and season for which the average rainfall is between 200 and 400 millimeters:\n",
      "('Mumbai', 'India', 'Fall')\n",
      "('London', 'UK', 'Winter')\n",
      "('London', 'UK', 'Fall')\n",
      "\n",
      "f) The city and country for which the average Fall temperature is above 20 degrees, in increasing temperature order:\n",
      "('Cairo', 'Egypt')\n",
      "('Mumbai', 'India')\n",
      "\n",
      "g) The total annual rainfall for Cairo:\n",
      "27.6\n",
      "\n",
      "h) The total rainfall for each season:\n",
      "('Fall', 569.0)\n",
      "('Spring', 192.29999999999998)\n",
      "('Summer', 1706.5)\n",
      "('Winter', 230.1)\n",
      "\n"
     ]
    }
   ],
   "source": [
    "import sqlite3\n",
    "\n",
    "# Connect to an in-memory SQLite database\n",
    "conn = sqlite3.connect(':memory:')\n",
    "cur = conn.cursor()\n",
    "\n",
    "# Create Weather table\n",
    "cur.execute('''CREATE TABLE Weather (\n",
    "                   City TEXT,\n",
    "                   Country TEXT,\n",
    "                   Season TEXT,\n",
    "                   Temperature REAL,\n",
    "                   Rainfall REAL)''')\n",
    "\n",
    "# Insert data into Weather table\n",
    "data = [\n",
    "    ('Mumbai', 'India', 'Winter', 24.8, 5.9),\n",
    "    ('Mumbai', 'India', 'Spring', 28.4, 16.2),\n",
    "    ('Mumbai', 'India', 'Summer', 27.9, 1549.4),\n",
    "    ('Mumbai', 'India', 'Fall', 27.6, 346.0),\n",
    "    ('Cairo', 'Egypt', 'Winter', 13.6, 16.5),\n",
    "    ('Cairo', 'Egypt', 'Spring', 20.7, 6.5),\n",
    "    ('Cairo', 'Egypt', 'Summer', 27.7, 0.1),\n",
    "    ('Cairo', 'Egypt', 'Fall', 22.2, 4.5),\n",
    "    ('London', 'UK', 'Winter', 4.2, 207.7),\n",
    "    ('London', 'UK', 'Spring', 8.3, 169.6),\n",
    "    ('London', 'UK', 'Summer', 15.7, 157.0),\n",
    "    ('London', 'UK', 'Fall', 10.4, 218.5),\n",
    "]\n",
    "cur.executemany(\"INSERT INTO Weather VALUES (?, ?, ?, ?, ?)\", data)\n",
    "conn.commit()\n",
    "\n",
    "# Execute SQL queries\n",
    "\n",
    "# a) All the temperature data\n",
    "print(\"a) All the temperature data:\")\n",
    "for row in cur.execute(\"SELECT Temperature FROM Weather\"):\n",
    "    print(row[0])\n",
    "print()\n",
    "\n",
    "# b) All the cities, but without repetition\n",
    "print(\"b) All the cities, but without repetition:\")\n",
    "for row in cur.execute(\"SELECT DISTINCT City FROM Weather\"):\n",
    "    print(row[0])\n",
    "print()\n",
    "\n",
    "# c) All the records for India\n",
    "print(\"c) All the records for India:\")\n",
    "for row in cur.execute(\"SELECT * FROM Weather WHERE Country = 'India'\"):\n",
    "    print(row)\n",
    "print()\n",
    "\n",
    "# d) All the Fall records\n",
    "print(\"d) All the Fall records:\")\n",
    "for row in cur.execute(\"SELECT * FROM Weather WHERE Season = 'Fall'\"):\n",
    "    print(row)\n",
    "print()\n",
    "\n",
    "# e) The city, country, and season for which the average rainfall is between 200 and 400 millimeters\n",
    "print(\"e) The city, country, and season for which the average rainfall is between 200 and 400 millimeters:\")\n",
    "for row in cur.execute(\"\"\"\n",
    "    SELECT City, Country, Season\n",
    "    FROM Weather\n",
    "    WHERE Rainfall BETWEEN 200 AND 400\n",
    "\"\"\"):\n",
    "    print(row)\n",
    "print()\n",
    "\n",
    "# f) The city and country for which the average Fall temperature is above 20 degrees, in increasing temperature order\n",
    "print(\"f) The city and country for which the average Fall temperature is above 20 degrees, in increasing temperature order:\")\n",
    "for row in cur.execute(\"\"\"\n",
    "    SELECT City, Country\n",
    "    FROM Weather\n",
    "    WHERE Season = 'Fall' AND Temperature > 20\n",
    "    ORDER BY Temperature ASC\n",
    "\"\"\"):\n",
    "    print(row)\n",
    "print()\n",
    "\n",
    "# g) The total annual rainfall for Cairo\n",
    "print(\"g) The total annual rainfall for Cairo:\")\n",
    "for row in cur.execute(\"\"\"\n",
    "    SELECT SUM(Rainfall)\n",
    "    FROM Weather\n",
    "    WHERE City = 'Cairo'\n",
    "\"\"\"):\n",
    "    print(row[0])\n",
    "print()\n",
    "\n",
    "# h) The total rainfall for each season\n",
    "print(\"h) The total rainfall for each season:\")\n",
    "for row in cur.execute(\"\"\"\n",
    "    SELECT Season, SUM(Rainfall)\n",
    "    FROM Weather\n",
    "    GROUP BY Season\n",
    "\"\"\"):\n",
    "    print(row)\n",
    "print()\n",
    "\n",
    "# Close the connection\n",
    "conn.close()\n"
   ]
  },
  {
   "cell_type": "markdown",
   "id": "234c320c-aae6-43bb-8027-e42b473526cb",
   "metadata": {},
   "source": [
    "# QUESTION 9 \n",
    "Definition of listof words"
   ]
  },
  {
   "cell_type": "code",
   "execution_count": 38,
   "id": "197385ea-d94b-4ec2-86d5-d6b258630696",
   "metadata": {},
   "outputs": [
    {
     "name": "stdout",
     "output_type": "stream",
     "text": [
      "a) ['THE', 'QUICK', 'BROWN', 'FOX', 'JUMPS', 'OVER', 'THE', 'LAZY', 'DOG']\n",
      "b) ['the', 'quick', 'brown', 'fox', 'jumps', 'over', 'the', 'lazy', 'dog']\n",
      "c) [3, 5, 5, 3, 5, 4, 3, 4, 3]\n",
      "d) [['THE', 'the', 3], ['QUICK', 'quick', 5], ['BROWN', 'brown', 5], ['FOX', 'fox', 3], ['JUMPS', 'jumps', 5], ['OVER', 'over', 4], ['THE', 'the', 3], ['LAZY', 'lazy', 4], ['DOG', 'dog', 3]]\n",
      "e) ['quick', 'brown', 'jumps', 'over', 'lazy']\n"
     ]
    }
   ],
   "source": [
    "# Given list of words\n",
    "words = ['The', 'quick', 'brown', 'fox', 'jumps', 'over', 'the', 'lazy', 'dog']\n",
    "\n",
    "uppercase_words = [word.upper() for word in words]\n",
    "print(\"a)\", uppercase_words)\n",
    "\n",
    "lowercase_words = [word.lower() for word in words]\n",
    "print(\"b)\", lowercase_words)\n",
    "\n",
    "word_lengths = [len(word) for word in words]\n",
    "print(\"c)\", word_lengths)\n",
    "\n",
    "word_details = [[word.upper(), word.lower(), len(word)] for word in words]\n",
    "print(\"d)\", word_details)\n",
    "\n",
    "long_words = [word for word in words if len(word) >= 4]\n",
    "print(\"e)\", long_words)\n"
   ]
  },
  {
   "cell_type": "code",
   "execution_count": null,
   "id": "6dc4056c-be84-42ef-bf97-63c23df660cb",
   "metadata": {},
   "outputs": [],
   "source": []
  }
 ],
 "metadata": {
  "kernelspec": {
   "display_name": "Python 3 (ipykernel)",
   "language": "python",
   "name": "python3"
  },
  "language_info": {
   "codemirror_mode": {
    "name": "ipython",
    "version": 3
   },
   "file_extension": ".py",
   "mimetype": "text/x-python",
   "name": "python",
   "nbconvert_exporter": "python",
   "pygments_lexer": "ipython3",
   "version": "3.12.4"
  }
 },
 "nbformat": 4,
 "nbformat_minor": 5
}
